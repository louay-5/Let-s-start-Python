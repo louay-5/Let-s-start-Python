{
  "nbformat": 4,
  "nbformat_minor": 0,
  "metadata": {
    "colab": {
      "name": "Checkpoint_2.ipynb",
      "provenance": [],
      "collapsed_sections": []
    },
    "kernelspec": {
      "name": "python3",
      "display_name": "Python 3"
    }
  },
  "cells": [
    {
      "cell_type": "code",
      "metadata": {
        "id": "0kG9NUcJC8RO",
        "colab_type": "code",
        "colab": {
          "base_uri": "https://localhost:8080/",
          "height": 54
        },
        "outputId": "81308390-4476-4e43-f279-aa212ed9f596"
      },
      "source": [
        "#question 1\n",
        "for nb in range(2000,3201):\n",
        "  if nb%7==0 and nb%5!=0:\n",
        "    print(nb, end=\" \")"
      ],
      "execution_count": null,
      "outputs": [
        {
          "output_type": "stream",
          "text": [
            "2002 2009 2016 2023 2037 2044 2051 2058 2072 2079 2086 2093 2107 2114 2121 2128 2142 2149 2156 2163 2177 2184 2191 2198 2212 2219 2226 2233 2247 2254 2261 2268 2282 2289 2296 2303 2317 2324 2331 2338 2352 2359 2366 2373 2387 2394 2401 2408 2422 2429 2436 2443 2457 2464 2471 2478 2492 2499 2506 2513 2527 2534 2541 2548 2562 2569 2576 2583 2597 2604 2611 2618 2632 2639 2646 2653 2667 2674 2681 2688 2702 2709 2716 2723 2737 2744 2751 2758 2772 2779 2786 2793 2807 2814 2821 2828 2842 2849 2856 2863 2877 2884 2891 2898 2912 2919 2926 2933 2947 2954 2961 2968 2982 2989 2996 3003 3017 3024 3031 3038 3052 3059 3066 3073 3087 3094 3101 3108 3122 3129 3136 3143 3157 3164 3171 3178 3192 3199 "
          ],
          "name": "stdout"
        }
      ]
    },
    {
      "cell_type": "code",
      "metadata": {
        "id": "IJgdX0XZDxTh",
        "colab_type": "code",
        "colab": {
          "base_uri": "https://localhost:8080/",
          "height": 51
        },
        "outputId": "4888a4fe-4246-460f-e749-50b6694ab75d"
      },
      "source": [
        "#question 2\n",
        "i=0\n",
        "while 1:\n",
        "  try:\n",
        "    nb_list=input(\"enter one or more comma-seperated numbers:\")\n",
        "    nb_list=[int(nb) for nb in nb_list.split(\",\")]\n",
        "    break\n",
        "  except:\n",
        "    print(\"You have to enter whole integers. Try again!\")\n",
        "    continue\n",
        "\n",
        "    \n",
        "for a in nb_list:\n",
        "  result=1\n",
        "  for b in range(1,a+1):\n",
        "    result=result*b\n",
        "  print(result, end=\" \")\n"
      ],
      "execution_count": null,
      "outputs": [
        {
          "output_type": "stream",
          "text": [
            "enter one or more numbers seperated with commas:8,5,1\n",
            "40320 120 1 "
          ],
          "name": "stdout"
        }
      ]
    },
    {
      "cell_type": "code",
      "metadata": {
        "id": "gQsC2kX6G_cy",
        "colab_type": "code",
        "colab": {}
      },
      "source": [
        "#question 3\n",
        "while 1:\n",
        "  try:\n",
        "    nb=int(input(\"Enter one whole integer:\"))\n",
        "    break\n",
        "  except ValueError:\n",
        "    print(\"You must enter a whole integer. Try again!\")\n",
        "    continue\n",
        "\n",
        "\n",
        "dict={}\n",
        "for a in range(1,nb+1):\n",
        "  dict[a]=a*a\n",
        "print(dict)\n"
      ],
      "execution_count": null,
      "outputs": []
    },
    {
      "cell_type": "code",
      "metadata": {
        "id": "hhZZ6oluKwbn",
        "colab_type": "code",
        "colab": {
          "base_uri": "https://localhost:8080/",
          "height": 103
        },
        "outputId": "8cee068f-968d-4530-f12a-0c38b8e094b3"
      },
      "source": [
        "#question 4\n",
        "text=input(\"Enter your text:\")\n",
        "\n",
        "i=0\n",
        "while i==0:\n",
        "  try:\n",
        "    char=int(input(\"Enter the index (an integer):\"))\n",
        "    i+=1\n",
        "  except ValueError:\n",
        "    print(\"Parameter char must be a whole integer.Try again!\")\n",
        "  if i==1:\n",
        "    if  char<=0 or char>(len(text)-1):\n",
        "      print(\"Parameter char must be a valid text index. Try again\")\n",
        "      i=0\n",
        "\n",
        "\n",
        "def missing_char(text,char):\n",
        "  return (text[0:char]+text[(char+1):])\n",
        "      \n",
        "\n",
        "missing_char(text,char)"
      ],
      "execution_count": null,
      "outputs": [
        {
          "output_type": "stream",
          "text": [
            "Enter your text:kitchen\n",
            "Enter the index (an integer):f\n",
            "Parameter char must be a whole integer.Try again!\n",
            "Enter the index (an integer):5\n"
          ],
          "name": "stdout"
        },
        {
          "output_type": "execute_result",
          "data": {
            "application/vnd.google.colaboratory.intrinsic+json": {
              "type": "string"
            },
            "text/plain": [
              "'kitchn'"
            ]
          },
          "metadata": {
            "tags": []
          },
          "execution_count": 12
        }
      ]
    },
    {
      "cell_type": "code",
      "metadata": {
        "id": "ZWKh7T8V2C2D",
        "colab_type": "code",
        "colab": {
          "base_uri": "https://localhost:8080/",
          "height": 51
        },
        "outputId": "20d04e84-d014-428b-84a4-3ef0eac0f87a"
      },
      "source": [
        "#question 5\n",
        "#Method 1\n",
        "import numpy as np\n",
        "a=np.array([[0,1],[2,3],[4,5]])\n",
        "with np.printoptions(linewidth=np.inf):\n",
        "  print(\"Original array elements: [{} {} {}]\".format(a[0],a[1],a[2]))\n",
        "l=[]\n",
        "for i in range(0,len(a)):\n",
        "  l.append(list(a[i]))\n",
        "a=l\n",
        "print(\"Array to list: {}\".format(a))"
      ],
      "execution_count": null,
      "outputs": [
        {
          "output_type": "stream",
          "text": [
            "Original array elements: [[0 1] [2 3] [4 5]]\n",
            "Array to list: [[0, 1], [2, 3], [4, 5]]\n"
          ],
          "name": "stdout"
        }
      ]
    },
    {
      "cell_type": "code",
      "metadata": {
        "id": "rmqmkr_6IcSk",
        "colab_type": "code",
        "colab": {
          "base_uri": "https://localhost:8080/",
          "height": 51
        },
        "outputId": "b9c905d2-4fff-4b54-9b93-c69abbe50099"
      },
      "source": [
        "#question 5\n",
        "#Method 2\n",
        "import numpy as np\n",
        "a=np.array([[0,1],[2,3],[4,5]])\n",
        "with np.printoptions(linewidth=np.inf):\n",
        "  print(\"Original array elements: [{} {} {}]\".format(a[0],a[1],a[2]))\n",
        "a=a.tolist()\n",
        "print(\"Array to list: {}\".format(a))"
      ],
      "execution_count": null,
      "outputs": [
        {
          "output_type": "stream",
          "text": [
            "Original array elements: [[0 1] [2 3] [4 5]]\n",
            "Array to list: [[0, 1], [2, 3], [4, 5]]\n"
          ],
          "name": "stdout"
        }
      ]
    },
    {
      "cell_type": "code",
      "metadata": {
        "id": "FDhr1KwkI0HF",
        "colab_type": "code",
        "colab": {}
      },
      "source": [
        "#question 6\n",
        "import numpy as np\n",
        "\n",
        "i=0\n",
        "while i==0:\n",
        "  try:\n",
        "    a1=input(\"Enter first array (comma-seperated integers):\")\n",
        "    a1=[int(nb) for nb in a1.split(\",\")]\n",
        "    a1=np.array(a1)\n",
        "    i=1\n",
        "  except ValueError:\n",
        "    print(\"You must enter comma-seperated integers. Try again!\")\n",
        "\n",
        "i=0\n",
        "while i==0:\n",
        "  try:\n",
        "    a2=input(\"Enter second array (comma-seperated integers):\")\n",
        "    a2=[int(nb) for nb in a2.split(\",\")]\n",
        "    assert len(a2)==len(a1)\n",
        "    a2=np.array(a2)\n",
        "    i=1\n",
        "  except ValueError:\n",
        "    print(\"You must enter comma-seperated integers. Try again!\")\n",
        "  except AssertionError:\n",
        "    print(\"First and second arrays must have the same shape. Try again\")\n",
        "\n",
        "A=np.stack((a1,a2), axis=0)\n",
        "c=np.cov(A)\n",
        "\n",
        "\n",
        "print(len(c))\n",
        "print(\"Original array1: {}\".format(a1))\n",
        "print(\"Original array2: {}\".format(a2))\n",
        "with np.printoptions(linewidth=np.inf):\n",
        "  print(\"Covariance matrix of the said arrays: [{} {}]\".format(c[0],c[1]))"
      ],
      "execution_count": null,
      "outputs": []
    },
    {
      "cell_type": "code",
      "metadata": {
        "id": "XsQ43HQHCSGI",
        "colab_type": "code",
        "colab": {
          "base_uri": "https://localhost:8080/",
          "height": 51
        },
        "outputId": "342d20bd-ae19-49d0-ddb7-43693c3c6408"
      },
      "source": [
        "#question 7\n",
        "from math import sqrt\n",
        "\n",
        "C=50\n",
        "H=30\n",
        "\n",
        "i=0\n",
        "while i==0:\n",
        "  try:\n",
        "    d=input(\"Enter D values (comma-seperated integers):\")\n",
        "    d=[int(nb) for nb in d.split(\",\")]\n",
        "    i=1\n",
        "  except ValueError:\n",
        "    print(\"You must enter comma-seperated integers. Try again!\")\n",
        "\n",
        "\n",
        "for D in d[0:-1]:\n",
        "  Q=sqrt((2 * C * D)/H)\n",
        "  print(round(Q),end=\",\")\n",
        "Q=sqrt((2 * C * d[-1])/H)\n",
        "print(round(Q))"
      ],
      "execution_count": null,
      "outputs": [
        {
          "output_type": "stream",
          "text": [
            "Enter D values (comma-seperated integers):100,150,180\n",
            "18,22,24\n"
          ],
          "name": "stdout"
        }
      ]
    }
  ]
}